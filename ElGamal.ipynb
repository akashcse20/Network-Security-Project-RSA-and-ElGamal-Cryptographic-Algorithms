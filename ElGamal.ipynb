{
 "cells": [
  {
   "cell_type": "code",
   "execution_count": 1,
   "metadata": {},
   "outputs": [
    {
     "name": "stdout",
     "output_type": "stream",
     "text": [
      "-----------------------\n",
      "key generation\n",
      "-----------------------\n",
      "public key: (p= 961751257 , g= 13 , y= 165114849 )\n",
      "private key x:  498282862\n",
      "Key generation time:  0.0  seconds\n",
      "-----------------------\n",
      "encryption decryption\n",
      "-----------------------\n",
      "encryption\n",
      "Original message: 105116101\n",
      "ciphertext: (c1= 594948571 , c2= 793326710 )\n",
      "Encryption Time: 0.0  seconds\n",
      "decryption\n",
      "Decrypted message:  105116101\n",
      "Decryption Time: 0.0  seconds\n"
     ]
    }
   ],
   "source": [
    "import random\n",
    "from crypto.Random import get_random_bytes\n",
    "import time\n",
    "#from Crypto.PublicKey import ElGamal\n",
    "\n",
    "#import cryptocommons as commons\n",
    "\n",
    "print(\"-----------------------\")\n",
    "print(\"key generation\")\n",
    "print(\"-----------------------\")\n",
    "Keygen_begins = time.time()   \n",
    "p = 961751257 #prime\n",
    "\"\"\"config = ElGamal.generate(512, get_random_bytes)\n",
    "p = getattr(config, 'p')\"\"\"\n",
    "\n",
    "g = 13\n",
    "\n",
    "x = random.randint(1, p-2)\n",
    "\n",
    "y = pow(g, x, p)\n",
    "\n",
    "print(\"public key: (p=\",p,\", g=\",g,\", y=\",y,\")\")\n",
    "print(\"private key x: \", x)\n",
    "\n",
    "Keygen_ends = time.time()  \n",
    "print(\"Key generation time: \",Keygen_ends-Keygen_begins,\" seconds\")\n",
    "\n",
    "print(\"-----------------------\")\n",
    "print(\"encryption decryption\")\n",
    "print(\"-----------------------\")\n",
    "print(\"encryption\")\n",
    "\n",
    "#Bob knows g, p, y\n",
    "encryption_begins = time.time()\n",
    "m = 105116101\n",
    "print('Original message:',m)\n",
    "k = random.randint(1, p-1)\n",
    "#c = [(ord(char) ** e) % n for char in message]\n",
    "c1 = pow(g, k, p)\n",
    "c2 = m * pow(y, k, p) % p\n",
    "#c2= [(ord(char)*cc) for char in m]      \n",
    "\n",
    "print(\"ciphertext: (c1=\",c1,\", c2=\",c2,\")\")\n",
    "encryption_ends = time.time()\n",
    "print(\"Encryption Time:\",encryption_ends-encryption_begins,\" seconds\")\n",
    "\n",
    "#bob sends c1, c2 pair to alice\n",
    "decryption_begin = time.time()\n",
    "print(\"decryption\")\n",
    "restored = c2 * pow(c1, (p-1-x), p) % p\n",
    "print(\"Decrypted message: \",restored)\n",
    "\n",
    "decrytion_end = time.time()\n",
    "print(\"Decryption Time:\",decrytion_end-decryption_begin,\" seconds\")"
   ]
  },
  {
   "cell_type": "code",
   "execution_count": null,
   "metadata": {},
   "outputs": [],
   "source": []
  },
  {
   "cell_type": "code",
   "execution_count": null,
   "metadata": {},
   "outputs": [],
   "source": []
  }
 ],
 "metadata": {
  "kernelspec": {
   "display_name": "Python 3 (ipykernel)",
   "language": "python",
   "name": "python3"
  },
  "language_info": {
   "codemirror_mode": {
    "name": "ipython",
    "version": 3
   },
   "file_extension": ".py",
   "mimetype": "text/x-python",
   "name": "python",
   "nbconvert_exporter": "python",
   "pygments_lexer": "ipython3",
   "version": "3.11.3"
  }
 },
 "nbformat": 4,
 "nbformat_minor": 2
}
